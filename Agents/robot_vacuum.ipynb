{
  "cells": [
    {
      "cell_type": "markdown",
      "metadata": {
        "id": "Bg7lb4qZMpW6"
      },
      "source": [
        "# Intelligent Agents: Reflex-Based Agents for the Vacuum-cleaner World\n",
        "\n",
        "Student Name: Ahmed Abdul Naoman\n",
        "\n",
        "I have used the following AI tools: ChatGPT- GPT 5\n",
        "\n",
        "I understand that my submission needs to be my own work: AAN"
      ]
    },
    {
      "cell_type": "markdown",
      "metadata": {
        "id": "FHttvJTwMpW7"
      },
      "source": [
        "## Learning Outcomes\n",
        "\n",
        "* Design and build a simulation environment that models sensor inputs, actuator effects, and performance measurement.\n",
        "* Apply core AI concepts by implementing the agent function for a simple and model-based reflex agents that respond to environmental percepts.\n",
        "* Practice how the environment and the agent function interact.\n",
        "* Analyze agent performance through controlled experiments across different environment configurations.\n",
        "* Graduate Students: Develop strategies for handling uncertainty and imperfect information in autonomous agent systems.\n",
        "\n",
        "## Instructions\n",
        "\n",
        "Total Points: Undergrads 100 + 5 bonus / Graduate students 110\n",
        "\n",
        "Complete this notebook. Use the provided notebook cells and insert additional code and markdown cells as needed. Submit the completely rendered notebook as a HTML file.\n",
        "\n",
        "### AI Use\n",
        "\n",
        "Here are some guidelines that will make it easier for you:\n",
        "\n",
        "* __Don't:__ Rely on AI auto completion. You will waste a lot of time trying to figure out how the suggested code relates to what we do in class. Turn off AI code completion (e.g., Copilot) in your IDE.\n",
        "* __Don't:__ Do not submit code/text that you do not understand or have not checked to make sure that it is complete and correct.\n",
        "* __Do:__ Use AI for debugging and letting it explain code and concepts from class.\n",
        "\n",
        "### Using Visual Studio Code\n",
        "\n",
        "If you use VS code then you can use `Export` (click on `...` in the menu bar) to save your notebook as a HTML file. Note that you have to run all blocks before so the HTML file contains your output.\n",
        "\n",
        "### Using Google Colab\n",
        "\n",
        "In Colab you need to save the notebook on GoogleDrive to work with it. For this you need to mount your google dive and change to the correct directory by uncommenting the following lines and running the code block."
      ]
    },
    {
      "cell_type": "code",
      "execution_count": 193,
      "metadata": {
        "id": "wroBj3j0MpW7"
      },
      "outputs": [],
      "source": [
        "# from google.colab import drive\n",
        "# import os\n",
        "#\n",
        "# drive.mount('/content/drive')\n",
        "# os.chdir('/content/drive/My Drive/Colab Notebooks/')"
      ]
    },
    {
      "cell_type": "markdown",
      "metadata": {
        "id": "iHu5msqLMpW8"
      },
      "source": [
        "Once you are done with the assignment and have run all code blocks using `Runtime/Run all`, you can convert the file on your GoogleDrive into HTML be uncommenting the following line and running the block."
      ]
    },
    {
      "cell_type": "code",
      "execution_count": 194,
      "metadata": {
        "id": "GZ6SEvPWMpW8"
      },
      "outputs": [],
      "source": [
        "# %jupyter nbconvert --to html Copy\\ of\\ robot_vacuum.ipynb"
      ]
    },
    {
      "cell_type": "markdown",
      "metadata": {
        "id": "nHG1WVl6MpW8"
      },
      "source": [
        "You may have to fix the file location or the file name to match how it looks on your GoogleDrive. You can navigate in Colab to your GoogleDrive using the little folder symbol in the navigation bar to the left."
      ]
    },
    {
      "cell_type": "markdown",
      "metadata": {
        "id": "JrRulY8UMpW8"
      },
      "source": [
        "## Introduction\n",
        "\n",
        "In this assignment you will implement a simulator environment for an automatic vacuum cleaner robot, a set of different reflex-based agent programs, and perform a comparison study for cleaning a single room. Focus on the __cleaning phase__ which starts when the robot is activated and ends when the last dirty square in the room has been cleaned. Someone else will take care of the agent program needed to navigate back to the charging station after the room is clean.\n",
        "\n",
        "## PEAS description of the cleaning phase\n",
        "\n",
        "__Performance Measure:__ Each action costs 1 energy unit. The performance is measured as the sum of the energy units used to clean the whole room.\n",
        "\n",
        "__Environment:__ A room with $n \\times n$ squares where $n = 5$. Dirt is randomly placed on each square with probability $p = 0.2$. For simplicity, you can assume that the agent knows the size and the layout of the room (i.e., it knows $n$). To start, the agent is placed on a random square.\n",
        "\n",
        "__Actuators:__ The agent can clean the current square (action `suck`) or move to an adjacent square by going `north`, `east`, `south`, or `west`.\n",
        "\n",
        "__Sensors:__ Four bumper sensors, one for north, east, south, and west; a dirt sensor reporting dirt in the current square.  \n",
        "\n",
        "\n",
        "## The agent program for a simple randomized agent\n",
        "\n",
        "The agent program is a function that gets sensor information (the current percepts) as the arguments. The arguments are:\n",
        "\n",
        "* A dictionary with boolean entries for the for bumper sensors `north`, `east`, `west`, `south`. E.g., if the agent is on the north-west corner, `bumpers` will be `{\"north\" : True, \"east\" : False, \"south\" : False, \"west\" : True}`.\n",
        "* The dirt sensor produces a boolean.\n",
        "\n",
        "The agent returns the chosen action as a string.\n",
        "\n",
        "Here is an example implementation for the agent program of a simple randomized agent:  "
      ]
    },
    {
      "cell_type": "code",
      "execution_count": 195,
      "metadata": {
        "id": "rJLT2JQSMpW8"
      },
      "outputs": [],
      "source": [
        "# make sure numpy is installed\n",
        "%pip install -q numpy"
      ]
    },
    {
      "cell_type": "code",
      "execution_count": 196,
      "metadata": {
        "id": "XDjJBkLvMpW9"
      },
      "outputs": [],
      "source": [
        "import numpy as np\n",
        "\n",
        "actions = [\"north\", \"east\", \"west\", \"south\", \"suck\"]\n",
        "\n",
        "def simple_randomized_agent(bumpers, dirty):\n",
        "    return np.random.choice(actions)"
      ]
    },
    {
      "cell_type": "code",
      "execution_count": 197,
      "metadata": {
        "colab": {
          "base_uri": "https://localhost:8080/",
          "height": 34
        },
        "id": "IUfTCo2PMpW9",
        "outputId": "8c9923b4-9561-4930-c338-50dd06ef7f32"
      },
      "outputs": [
        {
          "output_type": "execute_result",
          "data": {
            "text/plain": [
              "np.str_('south')"
            ],
            "application/vnd.google.colaboratory.intrinsic+json": {
              "type": "string"
            }
          },
          "metadata": {},
          "execution_count": 197
        }
      ],
      "source": [
        "# define percepts (current location is NW corner and it is dirty)\n",
        "bumpers = {\"north\" : True, \"east\" : False, \"south\" : False, \"west\" : True}\n",
        "dirty = True\n",
        "\n",
        "# call agent program function with percepts and it returns an action\n",
        "simple_randomized_agent(bumpers, dirty)"
      ]
    },
    {
      "cell_type": "markdown",
      "metadata": {
        "id": "iv0xim8XMpW9"
      },
      "source": [
        "__Note:__ This is not a rational intelligent agent. It ignores its sensors and may bump into a wall repeatedly or not clean a dirty square. You will be asked to implement rational agents below."
      ]
    },
    {
      "cell_type": "markdown",
      "metadata": {
        "id": "Vk65TjxuMpW9"
      },
      "source": [
        "## Simple environment example\n",
        "\n",
        "We implement a simple simulation environment that supplies the agent with its percepts.\n",
        "The simple environment is infinite in size (bumpers are always `False`) and every square is always dirty, even if the agent cleans it. The environment function returns a different performance measure than the one specified in the PEAS description! Since the room is infinite and all squares are constantly dirty, the agent can never clean the whole room. Your implementation needs to implement the **correct performance measure.** The energy budget of the agent is specified as `max_steps`."
      ]
    },
    {
      "cell_type": "code",
      "execution_count": 198,
      "metadata": {
        "id": "MZT49d8EMpW9"
      },
      "outputs": [],
      "source": [
        "def simple_environment(agent_function, max_steps, verbose = True):\n",
        "    num_cleaned = 0\n",
        "\n",
        "    for i in range(max_steps):\n",
        "        dirty = True\n",
        "        bumpers = {\"north\" : False, \"south\" : False, \"west\" : False, \"east\" : False}\n",
        "\n",
        "        action = agent_function(bumpers, dirty)\n",
        "        if (verbose): print(\"step\", i , \"- action:\", action)\n",
        "\n",
        "        if (action == \"suck\"):\n",
        "            num_cleaned = num_cleaned + 1\n",
        "\n",
        "    return num_cleaned\n",
        "\n"
      ]
    },
    {
      "cell_type": "markdown",
      "metadata": {
        "id": "oSb_BSNPMpW9"
      },
      "source": [
        "Do one simulation run with a simple randomized agent that has enough energy for 20 steps."
      ]
    },
    {
      "cell_type": "code",
      "execution_count": 199,
      "metadata": {
        "colab": {
          "base_uri": "https://localhost:8080/"
        },
        "id": "_dAehGqXMpW9",
        "outputId": "fef4510b-467c-4052-c6c8-a53abffa017c"
      },
      "outputs": [
        {
          "output_type": "stream",
          "name": "stdout",
          "text": [
            "step 0 - action: suck\n",
            "step 1 - action: south\n",
            "step 2 - action: east\n",
            "step 3 - action: suck\n",
            "step 4 - action: south\n",
            "step 5 - action: south\n",
            "step 6 - action: west\n",
            "step 7 - action: east\n",
            "step 8 - action: suck\n",
            "step 9 - action: suck\n",
            "step 10 - action: west\n",
            "step 11 - action: north\n",
            "step 12 - action: suck\n",
            "step 13 - action: east\n",
            "step 14 - action: south\n",
            "step 15 - action: south\n",
            "step 16 - action: north\n",
            "step 17 - action: suck\n",
            "step 18 - action: north\n",
            "step 19 - action: west\n"
          ]
        },
        {
          "output_type": "execute_result",
          "data": {
            "text/plain": [
              "6"
            ]
          },
          "metadata": {},
          "execution_count": 199
        }
      ],
      "source": [
        "simple_environment(simple_randomized_agent, max_steps = 20)"
      ]
    },
    {
      "cell_type": "markdown",
      "metadata": {
        "id": "M83UnsNWMpW9"
      },
      "source": [
        "# Tasks\n",
        "\n",
        "## General [10 Points]\n",
        "\n",
        "1. Make sure that you use the latest version of this notebook.\n",
        "2. Your implementation can use libraries like math, numpy, scipy, but not libraries that implement intelligent agents or complete search algorithms. Try to keep the code simple! In this course, we want to learn about the algorithms and we often do not need to use object-oriented design.\n",
        "3. You notebook needs to be formatted professionally.\n",
        "    - Add additional markdown blocks for your description, comments in the code, add tables and use mathplotlib to produce charts where appropriate\n",
        "    - Do not show debugging output or include an excessive amount of output.\n",
        "    - Check that your submitted file is readable and contains all figures.\n",
        "4. Document your code. Use comments in the code and add a discussion of how your implementation works and your design choices.\n",
        "\n",
        "\n",
        "## Task 1: Implement a simulation environment [20 Points]\n",
        "\n",
        "The simple environment above is not very realistic. Your environment simulator needs to follow the PEAS description from above. It needs to:\n",
        "\n",
        "* Initialize the environment by storing the state of each square (clean/dirty) and making some dirty. ([Help with random numbers and arrays in Python](https://github.com/mhahsler/CS7320-AI/blob/master/HOWTOs/random_numbers_and_arrays.ipynb))\n",
        "* Keep track of the agent's position.\n",
        "* Call the agent function repeatedly and provide the agent function with the sensor inputs.  \n",
        "* React to the agent's actions. E.g, by removing dirt from a square or moving the agent around unless there is a wall in the way.\n",
        "* Keep track of the performance measure. That is, track the agent's actions until all dirty squares are clean and count the number of actions it takes the agent to complete the task.\n",
        "\n",
        "The easiest implementation for the environment is to hold an 2-dimensional array to represent if squares are clean or dirty and to call the agent function in a loop until all squares are clean or a predefined number of steps have been reached (i.e., the robot runs out of energy).\n",
        "\n",
        "The simulation environment should be a function like the `simple_environment()` and needs to work with the simple randomized agent program from above. **Use the same environment for all your agent implementations in the tasks below.**\n",
        "\n",
        "*Note on debugging:* Debugging can be difficult. Here are a few options:\n",
        "\n",
        "* Make sure your environment prints enough information when you use `verbose = True`.\n",
        "* VSCode also provides a very good interactive Python debugger for notebooks. Read the [HOWTO on debugging](https://github.com/mhahsler/CS7320-AI/blob/master/HOWTOs/debugging_in_notebooks.ipynb) for more details.\n",
        "* Another very useful debugging help is to implement a function that the environment can use to displays the room with dirt and the current position of the robot at every step. You can use simple characters for dirt and the robot location.  "
      ]
    },
    {
      "cell_type": "code",
      "execution_count": 200,
      "metadata": {
        "id": "le2aI8H9MpW-"
      },
      "outputs": [],
      "source": [
        "\n",
        "import numpy as np, random\n",
        "\n",
        "def realistic_environment(agent_function,\n",
        "                          room_size=5,\n",
        "                          dirt_probability=0.2,\n",
        "                          max_steps=2000,\n",
        "                          verbose=False,\n",
        "                          seed=42,\n",
        "                          dirt_sensor_error=0.0,\n",
        "                          bumper_false_negative=0.0):\n",
        "    rng = np.random.default_rng(seed)\n",
        "    random.seed(seed)\n",
        "\n",
        "    # make grid: 1 = dirty, 0 = clean\n",
        "    room = (rng.random((room_size, room_size)) < dirt_probability).astype(np.int8)\n",
        "\n",
        "    # random start\n",
        "    ax, ay = int(rng.integers(0, room_size)), int(rng.integers(0, room_size))\n",
        "    total_actions, steps = 0, 0\n",
        "\n",
        "    def _true_bumpers(x, y):\n",
        "        return {\n",
        "            \"north\": (y == 0),\n",
        "            \"south\": (y == room_size - 1),\n",
        "            \"west\":  (x == 0),\n",
        "            \"east\":  (x == room_size - 1),\n",
        "        }\n",
        "\n",
        "    def _noisy_bumpers(tb):\n",
        "        if bumper_false_negative <= 0: return tb.copy()\n",
        "        nb = {}\n",
        "        for k,v in tb.items():\n",
        "            if v:  # sometimes miss a wall\n",
        "                nb[k] = (random.random() >= bumper_false_negative)\n",
        "            else:\n",
        "                nb[k] = False\n",
        "        return nb\n",
        "\n",
        "    while steps < max_steps:\n",
        "        steps += 1\n",
        "        tb = _true_bumpers(ax, ay)\n",
        "        dirty_true = (room[ay, ax] == 1)\n",
        "\n",
        "        # dirt sensor flip\n",
        "        if dirt_sensor_error > 0 and random.random() < dirt_sensor_error:\n",
        "            dirty_seen = not dirty_true\n",
        "        else:\n",
        "            dirty_seen = dirty_true\n",
        "\n",
        "        bumpers_seen = _noisy_bumpers(tb)\n",
        "        act = agent_function(bumpers_seen, dirty_seen)\n",
        "        total_actions += 1\n",
        "\n",
        "        if verbose:\n",
        "            print(f\"step {steps} pos=({ax},{ay}) dirty_true={dirty_true} seen={dirty_seen} act={act}\")\n",
        "\n",
        "        # physics update\n",
        "        if act == \"suck\":\n",
        "            room[ay, ax] = 0\n",
        "        elif act == \"north\" and not tb[\"north\"]:\n",
        "            ay -= 1\n",
        "        elif act == \"south\" and not tb[\"south\"]:\n",
        "            ay += 1\n",
        "        elif act == \"west\" and not tb[\"west\"]:\n",
        "            ax -= 1\n",
        "        elif act == \"east\" and not tb[\"east\"]:\n",
        "            ax += 1\n",
        "\n",
        "        # success check\n",
        "        if room.sum() == 0:\n",
        "            return total_actions, True\n",
        "\n",
        "    return total_actions, (room.sum() == 0)"
      ]
    },
    {
      "cell_type": "markdown",
      "metadata": {
        "id": "MUmFgX6mMpW-"
      },
      "source": [
        "Show that your environment works with the simple randomized agent from above."
      ]
    },
    {
      "cell_type": "code",
      "execution_count": 201,
      "metadata": {
        "colab": {
          "base_uri": "https://localhost:8080/"
        },
        "id": "1juo7qrhMpW-",
        "outputId": "4a40d60d-2a9a-4433-c147-90d12f72e3a2"
      },
      "outputs": [
        {
          "output_type": "stream",
          "name": "stdout",
          "text": [
            "Running simple_randomized_agent in 5x5 room (20 steps shown):\n",
            "step 1 pos=(0,3) dirty_true=False seen=False act=west\n",
            "step 2 pos=(0,3) dirty_true=False seen=False act=east\n",
            "step 3 pos=(1,3) dirty_true=True seen=True act=west\n",
            "step 4 pos=(0,3) dirty_true=False seen=False act=north\n",
            "step 5 pos=(0,2) dirty_true=False seen=False act=west\n",
            "step 6 pos=(0,2) dirty_true=False seen=False act=south\n",
            "step 7 pos=(0,3) dirty_true=False seen=False act=suck\n",
            "step 8 pos=(0,3) dirty_true=False seen=False act=south\n",
            "step 9 pos=(0,4) dirty_true=False seen=False act=south\n",
            "step 10 pos=(0,4) dirty_true=False seen=False act=south\n",
            "step 11 pos=(0,4) dirty_true=False seen=False act=north\n",
            "step 12 pos=(0,3) dirty_true=False seen=False act=south\n",
            "step 13 pos=(0,4) dirty_true=False seen=False act=north\n",
            "step 14 pos=(0,3) dirty_true=False seen=False act=south\n",
            "step 15 pos=(0,4) dirty_true=False seen=False act=suck\n",
            "step 16 pos=(0,4) dirty_true=False seen=False act=west\n",
            "step 17 pos=(0,4) dirty_true=False seen=False act=east\n",
            "step 18 pos=(1,4) dirty_true=False seen=False act=south\n",
            "step 19 pos=(1,4) dirty_true=False seen=False act=south\n",
            "step 20 pos=(1,4) dirty_true=False seen=False act=east\n",
            "\n",
            "Finished run. Success: False | Total actions: 20\n"
          ]
        }
      ],
      "source": [
        "print(\"Running simple_randomized_agent in 5x5 room (20 steps shown):\")\n",
        "\n",
        "acts, success = realistic_environment(simple_randomized_agent,\n",
        "                                      room_size=5,\n",
        "                                      dirt_probability=0.25,\n",
        "                                      max_steps=20,   # keep short for demo\n",
        "                                      verbose=True,\n",
        "                                      seed=1)\n",
        "\n",
        "print(\"\\nFinished run. Success:\", success, \"| Total actions:\", acts)"
      ]
    },
    {
      "cell_type": "markdown",
      "metadata": {
        "id": "OXvKUbMCMpW-"
      },
      "source": [
        "## Task 2:  Implement a simple reflex agent [10 Points]\n",
        "\n",
        "The simple reflex agent randomly walks around but reacts to the bumper sensor by not bumping into the wall and to dirt with sucking. Implement the agent program as a function.\n",
        "\n",
        "_Note:_ Agents cannot directly use variable in the environment. They only gets the percepts as the arguments to the agent function. Use the function signature for the `simple_randomized_agent` function above."
      ]
    },
    {
      "cell_type": "code",
      "execution_count": 202,
      "metadata": {
        "id": "N_Sr_NPSMpW-"
      },
      "outputs": [],
      "source": [
        "# Simple reflex agent: reacts to dirt, else moves in a fixed order\n",
        "def Simp_ref_A(bumpers, dirty):\n",
        "    if dirty:\n",
        "        return \"suck\"   # always clean if dirty\n",
        "    # try moves in this order if not blocked\n",
        "    pref_moves = [\"south\", \"east\", \"north\", \"west\"]\n",
        "    for mv in pref_moves:\n",
        "        if not bumpers.get(mv, False):\n",
        "            return mv\n",
        "    return \"suck\"\n",
        "\n",
        "# test reflex agent in our environment"
      ]
    },
    {
      "cell_type": "markdown",
      "metadata": {
        "id": "dkT8cHp0MpW-"
      },
      "source": [
        "Show how the agent works with your environment."
      ]
    },
    {
      "cell_type": "code",
      "execution_count": 203,
      "metadata": {
        "colab": {
          "base_uri": "https://localhost:8080/"
        },
        "id": "_1QmrYPbMpW-",
        "outputId": "f71aa31f-48da-4c39-8a73-6de263b9f26d"
      },
      "outputs": [
        {
          "output_type": "stream",
          "name": "stdout",
          "text": [
            "Robot in a 5x5 room (30 steps shown):\n",
            "step 1 pos=(4,4) dirty_true=False seen=False act=north\n",
            "step 2 pos=(4,3) dirty_true=True seen=True act=suck\n",
            "step 3 pos=(4,3) dirty_true=False seen=False act=south\n",
            "step 4 pos=(4,4) dirty_true=False seen=False act=north\n",
            "step 5 pos=(4,3) dirty_true=False seen=False act=south\n",
            "step 6 pos=(4,4) dirty_true=False seen=False act=north\n",
            "step 7 pos=(4,3) dirty_true=False seen=False act=south\n",
            "step 8 pos=(4,4) dirty_true=False seen=False act=north\n",
            "step 9 pos=(4,3) dirty_true=False seen=False act=south\n",
            "step 10 pos=(4,4) dirty_true=False seen=False act=north\n",
            "step 11 pos=(4,3) dirty_true=False seen=False act=south\n",
            "step 12 pos=(4,4) dirty_true=False seen=False act=north\n",
            "step 13 pos=(4,3) dirty_true=False seen=False act=south\n",
            "step 14 pos=(4,4) dirty_true=False seen=False act=north\n",
            "step 15 pos=(4,3) dirty_true=False seen=False act=south\n",
            "step 16 pos=(4,4) dirty_true=False seen=False act=north\n",
            "step 17 pos=(4,3) dirty_true=False seen=False act=south\n",
            "step 18 pos=(4,4) dirty_true=False seen=False act=north\n",
            "step 19 pos=(4,3) dirty_true=False seen=False act=south\n",
            "step 20 pos=(4,4) dirty_true=False seen=False act=north\n",
            "step 21 pos=(4,3) dirty_true=False seen=False act=south\n",
            "step 22 pos=(4,4) dirty_true=False seen=False act=north\n",
            "step 23 pos=(4,3) dirty_true=False seen=False act=south\n",
            "step 24 pos=(4,4) dirty_true=False seen=False act=north\n",
            "step 25 pos=(4,3) dirty_true=False seen=False act=south\n",
            "step 26 pos=(4,4) dirty_true=False seen=False act=north\n",
            "step 27 pos=(4,3) dirty_true=False seen=False act=south\n",
            "step 28 pos=(4,4) dirty_true=False seen=False act=north\n",
            "step 29 pos=(4,3) dirty_true=False seen=False act=south\n",
            "step 30 pos=(4,4) dirty_true=False seen=False act=north\n",
            "\n",
            "Finished run. Success: False | Total actions: 30\n"
          ]
        }
      ],
      "source": [
        "print(\"Robot in a 5x5 room (30 steps shown):\")\n",
        "acts, success = realistic_environment(Simp_ref_A,\n",
        "                                      room_size=5,\n",
        "                                      dirt_probability=0.25,\n",
        "                                      max_steps=30,   # short demo\n",
        "                                      verbose=True,\n",
        "                                      seed=2)\n",
        "\n",
        "print(\"\\nFinished run. Success:\", success, \"| Total actions:\", acts)"
      ]
    },
    {
      "cell_type": "markdown",
      "metadata": {
        "id": "5z8JEDHaMpW-"
      },
      "source": [
        "## Task 3: Implement a model-based reflex agent [20 Points]\n",
        "\n",
        "Model-based agents use a state to keep track of what they have done and perceived so far. Your agent needs to find out where it is located and then keep track of its current location. You also need a set of rules based on the state and the percepts to make sure that the agent will clean the whole room. For example, the agent can move to a corner to determine its location and then it can navigate through the whole room and clean dirty squares.\n",
        "\n",
        "Describe how you define the __agent state__ and how your agent works before implementing it. ([Help with implementing state information on Python](https://github.com/mhahsler/CS7320-AI/blob/master/HOWTOs/store_agent_state_information.ipynb))"
      ]
    },
    {
      "cell_type": "markdown",
      "source": [
        "Description:\n",
        "\n",
        "This agent keeps an internal state (`MB_State`) to remember its progress.  \n",
        "1. *Locate Phase*: It moves north and west until it finds the north-west corner.  \n",
        "2. *Sweep Phase*: It then follows a serpentine sweep pattern (east->south-> west -> south) to cover the whole room.  \n",
        "At every step, if the square is dirty, it immediately performs suck. The model-based agent locates the corner and swept the room in a structured path, cleaning all dirt in 31 actions."
      ],
      "metadata": {
        "id": "4ejUNWPBsNLz"
      }
    },
    {
      "cell_type": "code",
      "execution_count": 204,
      "metadata": {
        "id": "zNIvE1WTMpW-"
      },
      "outputs": [],
      "source": [
        "# state info for model-based agent\n",
        "MB_State = {}\n",
        "\n",
        "def Reset_MB_A():\n",
        "    MB_State.clear()\n",
        "    MB_State.update({\"found_corner\": False, \"mode\": \"locate\", \"dir\": \"east\"})\n",
        "\n",
        "# model-based reflex agent\n",
        "def MB_Ref_A(bumpers, dirty):\n",
        "    # clean right away if dirty\n",
        "    if dirty:\n",
        "        return \"suck\"\n",
        "\n",
        "    # locating phase: go north then west till corner\n",
        "    if not MB_State.get(\"found_corner\", False):\n",
        "        if not bumpers.get(\"north\", False):\n",
        "            return \"north\"\n",
        "        if not bumpers.get(\"west\", False):\n",
        "            return \"west\"\n",
        "        # now at NW corner\n",
        "        MB_State[\"found_corner\"] = True\n",
        "        MB_State[\"mode\"] = \"sweep\"\n",
        "        MB_State[\"dir\"] = \"east\"\n",
        "        # fall through to sweep\n",
        "\n",
        "    # sweeping phase: zigzag rows\n",
        "    if MB_State.get(\"mode\") == \"sweep\":\n",
        "        if MB_State[\"dir\"] == \"east\":\n",
        "            if not bumpers.get(\"east\", False):\n",
        "                return \"east\"\n",
        "            if not bumpers.get(\"south\", False):\n",
        "                MB_State[\"dir\"] = \"west\"\n",
        "                return \"south\"\n",
        "        else:  # going west\n",
        "            if not bumpers.get(\"west\", False):\n",
        "                return \"west\"\n",
        "            if not bumpers.get(\"south\", False):\n",
        "                MB_State[\"dir\"] = \"east\"\n",
        "                return \"south\"\n",
        "        return \"suck\"  # stuck fallback\n",
        "\n",
        "    return \"suck\"  # default action"
      ]
    },
    {
      "cell_type": "markdown",
      "metadata": {
        "id": "mZkhPVLrMpW-"
      },
      "source": [
        "Show how the agent works with your environment."
      ]
    },
    {
      "cell_type": "code",
      "execution_count": 205,
      "metadata": {
        "colab": {
          "base_uri": "https://localhost:8080/"
        },
        "id": "5dZoPGRWMpW-",
        "outputId": "70debc19-154e-4ba6-9b04-030eedea4799"
      },
      "outputs": [
        {
          "output_type": "stream",
          "name": "stdout",
          "text": [
            "Running MB_Ref_A (model-based) in 5x5 room (50 steps shown):\n",
            "step 1 pos=(3,2) dirty_true=False seen=False act=north\n",
            "step 2 pos=(3,1) dirty_true=False seen=False act=north\n",
            "step 3 pos=(3,0) dirty_true=False seen=False act=west\n",
            "step 4 pos=(2,0) dirty_true=False seen=False act=west\n",
            "step 5 pos=(1,0) dirty_true=True seen=True act=suck\n",
            "step 6 pos=(1,0) dirty_true=False seen=False act=west\n",
            "step 7 pos=(0,0) dirty_true=True seen=True act=suck\n",
            "step 8 pos=(0,0) dirty_true=False seen=False act=east\n",
            "step 9 pos=(1,0) dirty_true=False seen=False act=east\n",
            "step 10 pos=(2,0) dirty_true=False seen=False act=east\n",
            "step 11 pos=(3,0) dirty_true=False seen=False act=east\n",
            "step 12 pos=(4,0) dirty_true=True seen=True act=suck\n",
            "step 13 pos=(4,0) dirty_true=False seen=False act=south\n",
            "step 14 pos=(4,1) dirty_true=True seen=True act=suck\n",
            "step 15 pos=(4,1) dirty_true=False seen=False act=west\n",
            "step 16 pos=(3,1) dirty_true=False seen=False act=west\n",
            "step 17 pos=(2,1) dirty_true=True seen=True act=suck\n",
            "step 18 pos=(2,1) dirty_true=False seen=False act=west\n",
            "step 19 pos=(1,1) dirty_true=False seen=False act=west\n",
            "step 20 pos=(0,1) dirty_true=False seen=False act=south\n",
            "step 21 pos=(0,2) dirty_true=False seen=False act=east\n",
            "step 22 pos=(1,2) dirty_true=False seen=False act=east\n",
            "step 23 pos=(2,2) dirty_true=False seen=False act=east\n",
            "step 24 pos=(3,2) dirty_true=False seen=False act=east\n",
            "step 25 pos=(4,2) dirty_true=False seen=False act=south\n",
            "step 26 pos=(4,3) dirty_true=False seen=False act=west\n",
            "step 27 pos=(3,3) dirty_true=False seen=False act=west\n",
            "step 28 pos=(2,3) dirty_true=False seen=False act=west\n",
            "step 29 pos=(1,3) dirty_true=False seen=False act=west\n",
            "step 30 pos=(0,3) dirty_true=False seen=False act=south\n",
            "step 31 pos=(0,4) dirty_true=True seen=True act=suck\n",
            "\n",
            "Finished run. Success: True | Total actions: 31\n"
          ]
        }
      ],
      "source": [
        "# reset state before running\n",
        "Reset_MB_A()\n",
        "\n",
        "print(\"Running MB_Ref_A (model-based) in 5x5 room (50 steps shown):\")\n",
        "acts, success = realistic_environment(MB_Ref_A,\n",
        "                                      room_size=5,\n",
        "                                      dirt_probability=0.25,\n",
        "                                      max_steps=50,\n",
        "                                      verbose=True,\n",
        "                                      seed=3)\n",
        "\n",
        "print(\"\\nFinished run. Success:\", success, \"| Total actions:\", acts)"
      ]
    },
    {
      "cell_type": "markdown",
      "metadata": {
        "id": "aJzeNyAjMpW-"
      },
      "source": [
        "## Task 4: Simulation study [30 Points]\n",
        "\n",
        "Compare the performance (the performance measure is defined in the PEAS description above) of the agents using  environments of different size. Do at least $5 \\times 5$, $10 \\times 10$ and\n",
        "$100 \\times 100$. Use 100 random runs for each. Present the results using tables and graphs. Discuss the differences between the agents.\n",
        "([Help with charts and tables in Python](https://github.com/mhahsler/CS7320-AI/blob/master/HOWTOs/charts_and_tables.ipynb))"
      ]
    },
    {
      "cell_type": "code",
      "execution_count": 206,
      "metadata": {
        "colab": {
          "base_uri": "https://localhost:8080/",
          "height": 295
        },
        "id": "gic-5xwnMpW_",
        "outputId": "cdde7338-104c-48a7-ced7-0c02c12f26f6"
      },
      "outputs": [
        {
          "output_type": "stream",
          "name": "stdout",
          "text": [
            "Room 5x5, Randomized Agent: 499.4 avg actions\n",
            "Room 5x5, Simple Reflex Agent: 4950.1 avg actions\n",
            "Room 5x5, Model-based Reflex Agent: 31.6 avg actions\n",
            "Room 10x10, Randomized Agent: 3311.2 avg actions\n",
            "Room 10x10, Simple Reflex Agent: 5000.0 avg actions\n",
            "Room 10x10, Model-based Reflex Agent: 130.2 avg actions\n",
            "Room 100x100, Randomized Agent: 5000.0 avg actions\n",
            "Room 100x100, Simple Reflex Agent: 5000.0 avg actions\n",
            "Room 100x100, Model-based Reflex Agent: 5000.0 avg actions\n"
          ]
        },
        {
          "output_type": "execute_result",
          "data": {
            "text/plain": [
              "     Randomized Agent  Simple Reflex Agent  Model-based Reflex Agent\n",
              "5              499.40               4950.1                     31.63\n",
              "10            3311.15               5000.0                    130.16\n",
              "100           5000.00               5000.0                   5000.00"
            ],
            "text/html": [
              "\n",
              "  <div id=\"df-923dd0bc-ad6a-4e4f-83cd-da205ccfdedb\" class=\"colab-df-container\">\n",
              "    <div>\n",
              "<style scoped>\n",
              "    .dataframe tbody tr th:only-of-type {\n",
              "        vertical-align: middle;\n",
              "    }\n",
              "\n",
              "    .dataframe tbody tr th {\n",
              "        vertical-align: top;\n",
              "    }\n",
              "\n",
              "    .dataframe thead th {\n",
              "        text-align: right;\n",
              "    }\n",
              "</style>\n",
              "<table border=\"1\" class=\"dataframe\">\n",
              "  <thead>\n",
              "    <tr style=\"text-align: right;\">\n",
              "      <th></th>\n",
              "      <th>Randomized Agent</th>\n",
              "      <th>Simple Reflex Agent</th>\n",
              "      <th>Model-based Reflex Agent</th>\n",
              "    </tr>\n",
              "  </thead>\n",
              "  <tbody>\n",
              "    <tr>\n",
              "      <th>5</th>\n",
              "      <td>499.40</td>\n",
              "      <td>4950.1</td>\n",
              "      <td>31.63</td>\n",
              "    </tr>\n",
              "    <tr>\n",
              "      <th>10</th>\n",
              "      <td>3311.15</td>\n",
              "      <td>5000.0</td>\n",
              "      <td>130.16</td>\n",
              "    </tr>\n",
              "    <tr>\n",
              "      <th>100</th>\n",
              "      <td>5000.00</td>\n",
              "      <td>5000.0</td>\n",
              "      <td>5000.00</td>\n",
              "    </tr>\n",
              "  </tbody>\n",
              "</table>\n",
              "</div>\n",
              "    <div class=\"colab-df-buttons\">\n",
              "\n",
              "  <div class=\"colab-df-container\">\n",
              "    <button class=\"colab-df-convert\" onclick=\"convertToInteractive('df-923dd0bc-ad6a-4e4f-83cd-da205ccfdedb')\"\n",
              "            title=\"Convert this dataframe to an interactive table.\"\n",
              "            style=\"display:none;\">\n",
              "\n",
              "  <svg xmlns=\"http://www.w3.org/2000/svg\" height=\"24px\" viewBox=\"0 -960 960 960\">\n",
              "    <path d=\"M120-120v-720h720v720H120Zm60-500h600v-160H180v160Zm220 220h160v-160H400v160Zm0 220h160v-160H400v160ZM180-400h160v-160H180v160Zm440 0h160v-160H620v160ZM180-180h160v-160H180v160Zm440 0h160v-160H620v160Z\"/>\n",
              "  </svg>\n",
              "    </button>\n",
              "\n",
              "  <style>\n",
              "    .colab-df-container {\n",
              "      display:flex;\n",
              "      gap: 12px;\n",
              "    }\n",
              "\n",
              "    .colab-df-convert {\n",
              "      background-color: #E8F0FE;\n",
              "      border: none;\n",
              "      border-radius: 50%;\n",
              "      cursor: pointer;\n",
              "      display: none;\n",
              "      fill: #1967D2;\n",
              "      height: 32px;\n",
              "      padding: 0 0 0 0;\n",
              "      width: 32px;\n",
              "    }\n",
              "\n",
              "    .colab-df-convert:hover {\n",
              "      background-color: #E2EBFA;\n",
              "      box-shadow: 0px 1px 2px rgba(60, 64, 67, 0.3), 0px 1px 3px 1px rgba(60, 64, 67, 0.15);\n",
              "      fill: #174EA6;\n",
              "    }\n",
              "\n",
              "    .colab-df-buttons div {\n",
              "      margin-bottom: 4px;\n",
              "    }\n",
              "\n",
              "    [theme=dark] .colab-df-convert {\n",
              "      background-color: #3B4455;\n",
              "      fill: #D2E3FC;\n",
              "    }\n",
              "\n",
              "    [theme=dark] .colab-df-convert:hover {\n",
              "      background-color: #434B5C;\n",
              "      box-shadow: 0px 1px 3px 1px rgba(0, 0, 0, 0.15);\n",
              "      filter: drop-shadow(0px 1px 2px rgba(0, 0, 0, 0.3));\n",
              "      fill: #FFFFFF;\n",
              "    }\n",
              "  </style>\n",
              "\n",
              "    <script>\n",
              "      const buttonEl =\n",
              "        document.querySelector('#df-923dd0bc-ad6a-4e4f-83cd-da205ccfdedb button.colab-df-convert');\n",
              "      buttonEl.style.display =\n",
              "        google.colab.kernel.accessAllowed ? 'block' : 'none';\n",
              "\n",
              "      async function convertToInteractive(key) {\n",
              "        const element = document.querySelector('#df-923dd0bc-ad6a-4e4f-83cd-da205ccfdedb');\n",
              "        const dataTable =\n",
              "          await google.colab.kernel.invokeFunction('convertToInteractive',\n",
              "                                                    [key], {});\n",
              "        if (!dataTable) return;\n",
              "\n",
              "        const docLinkHtml = 'Like what you see? Visit the ' +\n",
              "          '<a target=\"_blank\" href=https://colab.research.google.com/notebooks/data_table.ipynb>data table notebook</a>'\n",
              "          + ' to learn more about interactive tables.';\n",
              "        element.innerHTML = '';\n",
              "        dataTable['output_type'] = 'display_data';\n",
              "        await google.colab.output.renderOutput(dataTable, element);\n",
              "        const docLink = document.createElement('div');\n",
              "        docLink.innerHTML = docLinkHtml;\n",
              "        element.appendChild(docLink);\n",
              "      }\n",
              "    </script>\n",
              "  </div>\n",
              "\n",
              "\n",
              "    <div id=\"df-923e3431-1b99-46d6-a0cc-b1ea96dfe27a\">\n",
              "      <button class=\"colab-df-quickchart\" onclick=\"quickchart('df-923e3431-1b99-46d6-a0cc-b1ea96dfe27a')\"\n",
              "                title=\"Suggest charts\"\n",
              "                style=\"display:none;\">\n",
              "\n",
              "<svg xmlns=\"http://www.w3.org/2000/svg\" height=\"24px\"viewBox=\"0 0 24 24\"\n",
              "     width=\"24px\">\n",
              "    <g>\n",
              "        <path d=\"M19 3H5c-1.1 0-2 .9-2 2v14c0 1.1.9 2 2 2h14c1.1 0 2-.9 2-2V5c0-1.1-.9-2-2-2zM9 17H7v-7h2v7zm4 0h-2V7h2v10zm4 0h-2v-4h2v4z\"/>\n",
              "    </g>\n",
              "</svg>\n",
              "      </button>\n",
              "\n",
              "<style>\n",
              "  .colab-df-quickchart {\n",
              "      --bg-color: #E8F0FE;\n",
              "      --fill-color: #1967D2;\n",
              "      --hover-bg-color: #E2EBFA;\n",
              "      --hover-fill-color: #174EA6;\n",
              "      --disabled-fill-color: #AAA;\n",
              "      --disabled-bg-color: #DDD;\n",
              "  }\n",
              "\n",
              "  [theme=dark] .colab-df-quickchart {\n",
              "      --bg-color: #3B4455;\n",
              "      --fill-color: #D2E3FC;\n",
              "      --hover-bg-color: #434B5C;\n",
              "      --hover-fill-color: #FFFFFF;\n",
              "      --disabled-bg-color: #3B4455;\n",
              "      --disabled-fill-color: #666;\n",
              "  }\n",
              "\n",
              "  .colab-df-quickchart {\n",
              "    background-color: var(--bg-color);\n",
              "    border: none;\n",
              "    border-radius: 50%;\n",
              "    cursor: pointer;\n",
              "    display: none;\n",
              "    fill: var(--fill-color);\n",
              "    height: 32px;\n",
              "    padding: 0;\n",
              "    width: 32px;\n",
              "  }\n",
              "\n",
              "  .colab-df-quickchart:hover {\n",
              "    background-color: var(--hover-bg-color);\n",
              "    box-shadow: 0 1px 2px rgba(60, 64, 67, 0.3), 0 1px 3px 1px rgba(60, 64, 67, 0.15);\n",
              "    fill: var(--button-hover-fill-color);\n",
              "  }\n",
              "\n",
              "  .colab-df-quickchart-complete:disabled,\n",
              "  .colab-df-quickchart-complete:disabled:hover {\n",
              "    background-color: var(--disabled-bg-color);\n",
              "    fill: var(--disabled-fill-color);\n",
              "    box-shadow: none;\n",
              "  }\n",
              "\n",
              "  .colab-df-spinner {\n",
              "    border: 2px solid var(--fill-color);\n",
              "    border-color: transparent;\n",
              "    border-bottom-color: var(--fill-color);\n",
              "    animation:\n",
              "      spin 1s steps(1) infinite;\n",
              "  }\n",
              "\n",
              "  @keyframes spin {\n",
              "    0% {\n",
              "      border-color: transparent;\n",
              "      border-bottom-color: var(--fill-color);\n",
              "      border-left-color: var(--fill-color);\n",
              "    }\n",
              "    20% {\n",
              "      border-color: transparent;\n",
              "      border-left-color: var(--fill-color);\n",
              "      border-top-color: var(--fill-color);\n",
              "    }\n",
              "    30% {\n",
              "      border-color: transparent;\n",
              "      border-left-color: var(--fill-color);\n",
              "      border-top-color: var(--fill-color);\n",
              "      border-right-color: var(--fill-color);\n",
              "    }\n",
              "    40% {\n",
              "      border-color: transparent;\n",
              "      border-right-color: var(--fill-color);\n",
              "      border-top-color: var(--fill-color);\n",
              "    }\n",
              "    60% {\n",
              "      border-color: transparent;\n",
              "      border-right-color: var(--fill-color);\n",
              "    }\n",
              "    80% {\n",
              "      border-color: transparent;\n",
              "      border-right-color: var(--fill-color);\n",
              "      border-bottom-color: var(--fill-color);\n",
              "    }\n",
              "    90% {\n",
              "      border-color: transparent;\n",
              "      border-bottom-color: var(--fill-color);\n",
              "    }\n",
              "  }\n",
              "</style>\n",
              "\n",
              "      <script>\n",
              "        async function quickchart(key) {\n",
              "          const quickchartButtonEl =\n",
              "            document.querySelector('#' + key + ' button');\n",
              "          quickchartButtonEl.disabled = true;  // To prevent multiple clicks.\n",
              "          quickchartButtonEl.classList.add('colab-df-spinner');\n",
              "          try {\n",
              "            const charts = await google.colab.kernel.invokeFunction(\n",
              "                'suggestCharts', [key], {});\n",
              "          } catch (error) {\n",
              "            console.error('Error during call to suggestCharts:', error);\n",
              "          }\n",
              "          quickchartButtonEl.classList.remove('colab-df-spinner');\n",
              "          quickchartButtonEl.classList.add('colab-df-quickchart-complete');\n",
              "        }\n",
              "        (() => {\n",
              "          let quickchartButtonEl =\n",
              "            document.querySelector('#df-923e3431-1b99-46d6-a0cc-b1ea96dfe27a button');\n",
              "          quickchartButtonEl.style.display =\n",
              "            google.colab.kernel.accessAllowed ? 'block' : 'none';\n",
              "        })();\n",
              "      </script>\n",
              "    </div>\n",
              "\n",
              "  <div id=\"id_5c134f2d-da02-40a4-8b61-eacf8ea9c548\">\n",
              "    <style>\n",
              "      .colab-df-generate {\n",
              "        background-color: #E8F0FE;\n",
              "        border: none;\n",
              "        border-radius: 50%;\n",
              "        cursor: pointer;\n",
              "        display: none;\n",
              "        fill: #1967D2;\n",
              "        height: 32px;\n",
              "        padding: 0 0 0 0;\n",
              "        width: 32px;\n",
              "      }\n",
              "\n",
              "      .colab-df-generate:hover {\n",
              "        background-color: #E2EBFA;\n",
              "        box-shadow: 0px 1px 2px rgba(60, 64, 67, 0.3), 0px 1px 3px 1px rgba(60, 64, 67, 0.15);\n",
              "        fill: #174EA6;\n",
              "      }\n",
              "\n",
              "      [theme=dark] .colab-df-generate {\n",
              "        background-color: #3B4455;\n",
              "        fill: #D2E3FC;\n",
              "      }\n",
              "\n",
              "      [theme=dark] .colab-df-generate:hover {\n",
              "        background-color: #434B5C;\n",
              "        box-shadow: 0px 1px 3px 1px rgba(0, 0, 0, 0.15);\n",
              "        filter: drop-shadow(0px 1px 2px rgba(0, 0, 0, 0.3));\n",
              "        fill: #FFFFFF;\n",
              "      }\n",
              "    </style>\n",
              "    <button class=\"colab-df-generate\" onclick=\"generateWithVariable('df')\"\n",
              "            title=\"Generate code using this dataframe.\"\n",
              "            style=\"display:none;\">\n",
              "\n",
              "  <svg xmlns=\"http://www.w3.org/2000/svg\" height=\"24px\"viewBox=\"0 0 24 24\"\n",
              "       width=\"24px\">\n",
              "    <path d=\"M7,19H8.4L18.45,9,17,7.55,7,17.6ZM5,21V16.75L18.45,3.32a2,2,0,0,1,2.83,0l1.4,1.43a1.91,1.91,0,0,1,.58,1.4,1.91,1.91,0,0,1-.58,1.4L9.25,21ZM18.45,9,17,7.55Zm-12,3A5.31,5.31,0,0,0,4.9,8.1,5.31,5.31,0,0,0,1,6.5,5.31,5.31,0,0,0,4.9,4.9,5.31,5.31,0,0,0,6.5,1,5.31,5.31,0,0,0,8.1,4.9,5.31,5.31,0,0,0,12,6.5,5.46,5.46,0,0,0,6.5,12Z\"/>\n",
              "  </svg>\n",
              "    </button>\n",
              "    <script>\n",
              "      (() => {\n",
              "      const buttonEl =\n",
              "        document.querySelector('#id_5c134f2d-da02-40a4-8b61-eacf8ea9c548 button.colab-df-generate');\n",
              "      buttonEl.style.display =\n",
              "        google.colab.kernel.accessAllowed ? 'block' : 'none';\n",
              "\n",
              "      buttonEl.onclick = () => {\n",
              "        google.colab.notebook.generateWithVariable('df');\n",
              "      }\n",
              "      })();\n",
              "    </script>\n",
              "  </div>\n",
              "\n",
              "    </div>\n",
              "  </div>\n"
            ],
            "application/vnd.google.colaboratory.intrinsic+json": {
              "type": "dataframe",
              "variable_name": "df",
              "summary": "{\n  \"name\": \"df\",\n  \"rows\": 3,\n  \"fields\": [\n    {\n      \"column\": \"Randomized Agent\",\n      \"properties\": {\n        \"dtype\": \"number\",\n        \"std\": 2273.5270962757404,\n        \"min\": 499.4,\n        \"max\": 5000.0,\n        \"num_unique_values\": 3,\n        \"samples\": [\n          499.4,\n          3311.15,\n          5000.0\n        ],\n        \"semantic_type\": \"\",\n        \"description\": \"\"\n      }\n    },\n    {\n      \"column\": \"Simple Reflex Agent\",\n      \"properties\": {\n        \"dtype\": \"number\",\n        \"std\": 28.809778432562112,\n        \"min\": 4950.1,\n        \"max\": 5000.0,\n        \"num_unique_values\": 2,\n        \"samples\": [\n          5000.0,\n          4950.1\n        ],\n        \"semantic_type\": \"\",\n        \"description\": \"\"\n      }\n    },\n    {\n      \"column\": \"Model-based Reflex Agent\",\n      \"properties\": {\n        \"dtype\": \"number\",\n        \"std\": 2840.4738525875105,\n        \"min\": 31.63,\n        \"max\": 5000.0,\n        \"num_unique_values\": 3,\n        \"samples\": [\n          31.63,\n          130.16\n        ],\n        \"semantic_type\": \"\",\n        \"description\": \"\"\n      }\n    }\n  ]\n}"
            }
          },
          "metadata": {},
          "execution_count": 206
        }
      ],
      "source": [
        "def avg_perf(agent_fn, n_runs=100, room_size=5, dirt_p=0.25, seed=77):\n",
        "    scores = []\n",
        "    for k in range(n_runs):\n",
        "        if agent_fn.__name__ in [\"MB_Ref_A\", \"model_based_reflex_agent\"]:\n",
        "            try:\n",
        "                Reset_MB_A()\n",
        "            except:\n",
        "                reset_agent_state()\n",
        "        a, ok = realistic_environment(agent_fn,\n",
        "                                      room_size=room_size,\n",
        "                                      dirt_probability=dirt_p,\n",
        "                                      max_steps=5000,\n",
        "                                      verbose=False,\n",
        "                                      seed=seed+k)\n",
        "        scores.append(a)\n",
        "    return float(np.mean(scores)), scores\n",
        "\n",
        "# sizes to test\n",
        "sizes = [5, 10, 100]\n",
        "agents = [\n",
        "    (\"Randomized Agent\", simple_randomized_agent),\n",
        "    (\"Simple Reflex Agent\", simple_reflex_agent),\n",
        "    (\"Model-based Reflex Agent\", MB_Ref_A)  # use your MB agent function\n",
        "]\n",
        "\n",
        "# results\n",
        "import pandas as pd\n",
        "results = {}\n",
        "for sz in sizes:\n",
        "    results[sz] = {}\n",
        "    for name, fn in agents:\n",
        "        avg, vals = avg_perf(fn, n_runs=100, room_size=sz, dirt_p=0.25, seed=100)\n",
        "        results[sz][name] = avg\n",
        "        print(f\"Room {sz}x{sz}, {name}: {avg:.1f} avg actions\")\n",
        "\n",
        "df = pd.DataFrame(results).T\n",
        "df"
      ]
    },
    {
      "cell_type": "markdown",
      "metadata": {
        "id": "I1t4Zj80MpW_"
      },
      "source": [
        "Fill out the following table with the average performance measure for 100 random runs (you may also create this table with code):\n",
        "\n",
        "| Size     | Randomized Agent | Simple Reflex Agent | Model-based Reflex Agent |\n",
        "|----------|------------------|---------------------|--------------------------|\n",
        "| 5x5     | 499.40|4950.1 |31.63 |\n",
        "| 10x10   | 3311.15|5000 |130.16 |\n",
        "| 100x100 | 5000|5000 |5000 |"
      ]
    },
    {
      "cell_type": "code",
      "execution_count": 217,
      "metadata": {
        "colab": {
          "base_uri": "https://localhost:8080/",
          "height": 391
        },
        "id": "mX7mbjtBMpW_",
        "outputId": "20aaf306-8dd2-40b3-a299-d88fb8b8c300"
      },
      "outputs": [
        {
          "output_type": "display_data",
          "data": {
            "text/plain": [
              "<Figure size 800x400 with 1 Axes>"
            ],
            "image/png": "[encoded data removed]"
          },
          "metadata": {}
        }
      ],
      "source": [
        "import matplotlib.pyplot as plt\n",
        "\n",
        "df.plot(kind=\"bar\", figsize=(8,4))\n",
        "plt.ylabel(\"Avg actions (lower = better)\")\n",
        "plt.title(\"Agent performance across different room sizes (100 runs)\")\n",
        "plt.xticks(rotation=0)\n",
        "plt.show()"
      ]
    },
    {
      "cell_type": "markdown",
      "source": [
        "*The randomized agent wastes energy since it explores without memory.\n",
        "The simple reflex agent does slightly better but often cycles in patterns.\n",
        "The model-based reflex agent is most efficient, since it establishes location and then sweeps systematically.\n",
        "The performance gap grows with room size: in large rooms, random and simple reflex scale poorly, while the model-based agent maintains far fewer actions*"
      ],
      "metadata": {
        "id": "uIwjTMilueWL"
      }
    },
    {
      "cell_type": "markdown",
      "metadata": {
        "id": "FGneJSZdMpW_"
      },
      "source": [
        "## Task 5: Robustness of the agent implementations [10 Points]\n",
        "\n",
        "Describe how **your agent implementations** will perform\n",
        "\n",
        "* if it is put into a rectangular room with unknown size,\n",
        "* if the cleaning area can have an irregular shape (e.g., a hallway connecting two rooms), or\n",
        "* if the room contains obstacles (i.e., squares that it cannot pass through and trigger the bumper sensors).\n",
        "* if the dirt sensor is not perfect and gives 10% of the time a wrong reading (clean when it is dirty or dirty when it is clean).\n",
        "* if the bumper sensor is not perfect and 10% of the time does not report a wall when there is one."
      ]
    },
    {
      "cell_type": "code",
      "execution_count": 218,
      "metadata": {
        "colab": {
          "base_uri": "https://localhost:8080/",
          "height": 382
        },
        "id": "6qC7np7zMpW_",
        "outputId": "3b4df59d-4d7d-446b-bf19-cf7d3a2487d4"
      },
      "outputs": [
        {
          "output_type": "stream",
          "name": "stdout",
          "text": [
            "Avg energy under 10% dirt-sensor flips + 10% bumper FN (10 runs):\n",
            "  model_based: 2116.8\n",
            "  robust    : 97.9\n",
            "  reflex    : 3000.0\n"
          ]
        },
        {
          "output_type": "display_data",
          "data": {
            "text/plain": [
              "<Figure size 500x300 with 1 Axes>"
            ],
            "image/png": "[encoded data removed]"
          },
          "metadata": {}
        }
      ],
      "source": [
        "def reset_robust_agent_state():\n",
        "    RB_S.clear()\n",
        "    RB_S.update({\"loc_known\": False, \"mode\": \"locate\", \"dir\": \"east\", \"just_checked_clean\": False})\n",
        "\n",
        "def model_based_reflex_agent_robust(bumpers, dirty):\n",
        "    # if dirt seen, suck and reset check flag\n",
        "    if dirty:\n",
        "        RB_S[\"just_checked_clean\"] = False\n",
        "        return \"suck\"\n",
        "\n",
        "    # if sensor said clean and we haven't tried to confirm recently, do one confirm suck\n",
        "    if not RB_S.get(\"just_checked_clean\", False):\n",
        "        RB_S[\"just_checked_clean\"] = True\n",
        "        return \"suck\"\n",
        "\n",
        "    # locate NW corner as before\n",
        "    if not RB_S.get(\"loc_known\", False):\n",
        "        RB_S[\"just_checked_clean\"] = False\n",
        "        if not bumpers.get(\"north\", False):\n",
        "            return \"north\"\n",
        "        if not bumpers.get(\"west\", False):\n",
        "            return \"west\"\n",
        "        RB_S[\"loc_known\"] = True\n",
        "        RB_S[\"mode\"] = \"sweep\"\n",
        "        RB_S[\"dir\"] = \"east\"\n",
        "\n",
        "    # serpentine sweep\n",
        "    RB_S[\"just_checked_clean\"] = False\n",
        "    if RB_S.get(\"mode\") == \"sweep\":\n",
        "        if RB_S.get(\"dir\") == \"east\":\n",
        "            if not bumpers.get(\"east\", False):\n",
        "                return \"east\"\n",
        "            if not bumpers.get(\"south\", False):\n",
        "                RB_S[\"dir\"] = \"west\"\n",
        "                return \"south\"\n",
        "            return \"suck\"\n",
        "        else:\n",
        "            if not bumpers.get(\"west\", False):\n",
        "                return \"west\"\n",
        "            if not bumpers.get(\"south\", False):\n",
        "                RB_S[\"dir\"] = \"east\"\n",
        "                return \"south\"\n",
        "            return \"suck\"\n",
        "    return \"suck\"\n",
        "\n",
        "# small evaluation function under noise\n",
        "def compare_under_noise(room_size=6, dirt_p=0.3, n_runs=10, ds_err=0.10, bump_fnr=0.10, seed=100):\n",
        "    results = {}\n",
        "    # baseline model-based\n",
        "    mb_vals = []\n",
        "    for k in range(n_runs):\n",
        "        reset_agent_state()\n",
        "        a, ok = realistic_environment(model_based_reflex_agent,\n",
        "                                      room_size=room_size,\n",
        "                                      dirt_probability=dirt_p,\n",
        "                                      max_steps=3000,\n",
        "                                      dirt_sensor_error=ds_err,\n",
        "                                      bumper_false_negative=bump_fnr,\n",
        "                                      verbose=False,\n",
        "                                      seed=seed + k)\n",
        "        mb_vals.append(a)\n",
        "    results[\"model_based\"] = mean(mb_vals)\n",
        "\n",
        "    # robust model-based\n",
        "    rb_vals = []\n",
        "    for k in range(n_runs):\n",
        "        reset_robust_agent_state()\n",
        "        a, ok = realistic_environment(model_based_reflex_agent_robust,\n",
        "                                      room_size=room_size,\n",
        "                                      dirt_probability=dirt_p,\n",
        "                                      max_steps=3000,\n",
        "                                      dirt_sensor_error=ds_err,\n",
        "                                      bumper_false_negative=bump_fnr,\n",
        "                                      verbose=False,\n",
        "                                      seed=seed + 100 + k)\n",
        "        rb_vals.append(a)\n",
        "    results[\"robust\"] = mean(rb_vals)\n",
        "\n",
        "    # simple reflex reference\n",
        "    rf_vals = []\n",
        "    for k in range(n_runs):\n",
        "        a, ok = realistic_environment(simple_reflex_agent,\n",
        "                                      room_size=room_size,\n",
        "                                      dirt_probability=dirt_p,\n",
        "                                      max_steps=3000,\n",
        "                                      dirt_sensor_error=ds_err,\n",
        "                                      bumper_false_negative=bump_fnr,\n",
        "                                      verbose=False,\n",
        "                                      seed=seed + 200 + k)\n",
        "        rf_vals.append(a)\n",
        "    results[\"reflex\"] = mean(rf_vals)\n",
        "\n",
        "    return results\n",
        "\n",
        "# run the noisy comparison with small n to be safe\n",
        "reset_robust_agent_state()\n",
        "noise_results = compare_under_noise(room_size=6, dirt_p=0.30, n_runs=10, ds_err=0.10, bump_fnr=0.10, seed=42)\n",
        "print(\"Avg energy under 10% dirt-sensor flips + 10% bumper FN (10 runs):\")\n",
        "for k, v in noise_results.items():\n",
        "    print(f\"  {k:10s}: {v:.1f}\")\n",
        "\n",
        "plt.figure(figsize=(5,3))\n",
        "plt.bar([\"Reflex\",\"Model-based\",\"Robust MB\"], [noise_results[\"reflex\"], noise_results[\"model_based\"], noise_results[\"robust\"]])\n",
        "plt.ylabel(\"Avg energy (actions)\")\n",
        "plt.title(\"Robustness under noisy sensors (10 runs)\")\n",
        "plt.show()"
      ]
    },
    {
      "cell_type": "markdown",
      "source": [
        "*DESC:*\n",
        "\n",
        "- Rectangular room (unknown size):\n",
        "  All agents still work since bumpers define boundaries. Randomized and reflex wander; model-based continues its sweep until it runs out of steps.  \n",
        "\n",
        "- Irregular shapes (hallways, L-rooms):\n",
        "  Randomized eventually covers all but very inefficiently. Reflex risks looping. Model-based assumes rectangles, so it may miss side corridors.  \n",
        "\n",
        "- Obstacles in the room:\n",
        "  Randomized/reflex can still navigate around them. Model-based sweep may break since its systematic path is blocked, leaving dirt behind.  \n",
        "\n",
        "- Noisy dirt sensor (10% error):\n",
        "  Agents may skip dirt or waste actions. The robust MB agent improves by re-checking clean readings with an extra “confirm-suck.”  \n",
        "\n",
        "- Noisy bumper sensor (10% FN):  \n",
        "  Randomized/reflex occasionally walk into walls. Model-based may misalign its sweep. The robust MB variant still degrades but state tracking plus redundancy reduce failures."
      ],
      "metadata": {
        "id": "RucQxv10wBEB"
      }
    },
    {
      "cell_type": "markdown",
      "metadata": {
        "id": "n5zHa2AwMpW_"
      },
      "source": [
        "## Advanced task: Imperfect Dirt Sensor\n",
        "\n",
        "* __Graduate students__ need to complete this task [10 points]\n",
        "* __Undergraduate students__ can attempt this as a bonus task [max +5 bonus points].\n",
        "\n",
        "1. Change your simulation environment to run experiments for the following problem: The dirt sensor has a 10% chance of giving the wrong reading. Perform experiments to observe how this changes the performance of the three implementations. Your model-based reflex agent is likely not able to clean the whole room, so you need to measure performance differently as a tradeoff between energy cost and number of uncleaned squares.\n",
        "\n",
        "2. Design an implement a solution for your model-based agent that will clean better. Show the improvement with experiments."
      ]
    },
    {
      "cell_type": "code",
      "execution_count": 219,
      "metadata": {
        "id": "ocC-j5xRMpW_"
      },
      "outputs": [],
      "source": [
        "def realistic_environment_noisy(agent_fn,\n",
        "                                room_size=5,\n",
        "                                dirt_p=0.25,\n",
        "                                dirt_sensor_error=0.10,\n",
        "                                max_steps=3000,\n",
        "                                seed=123,\n",
        "                                verbose=False):\n",
        "    rng = np.random.default_rng(seed)\n",
        "    random.seed(seed)\n",
        "\n",
        "    room = (rng.random((room_size, room_size)) < dirt_p).astype(np.int8)\n",
        "    ax, ay = int(rng.integers(0, room_size)), int(rng.integers(0, room_size))\n",
        "\n",
        "    def _true_bumpers(x, y):\n",
        "        return {\"north\": y == 0, \"south\": y == room_size - 1,\n",
        "                \"west\": x == 0, \"east\": x == room_size - 1}\n",
        "\n",
        "    steps, acts = 0, 0\n",
        "    while steps < max_steps:\n",
        "        steps += 1\n",
        "        tb = _true_bumpers(ax, ay)\n",
        "\n",
        "        true_dirty = (room[ay, ax] == 1)\n",
        "        # flip with prob = dirt_sensor_error\n",
        "        if rng.random() < dirt_sensor_error:\n",
        "            dirty_seen = not true_dirty\n",
        "        else:\n",
        "            dirty_seen = true_dirty\n",
        "\n",
        "        act = agent_fn(tb, dirty_seen)\n",
        "        acts += 1\n",
        "\n",
        "        if verbose:\n",
        "            print(f\"s{steps} pos=({ax},{ay}) true_dirty={true_dirty} seen={dirty_seen} act={act}\")\n",
        "\n",
        "        if act == \"suck\":\n",
        "            room[ay, ax] = 0\n",
        "        elif act == \"north\" and not tb[\"north\"]:\n",
        "            ay -= 1\n",
        "        elif act == \"south\" and not tb[\"south\"]:\n",
        "            ay += 1\n",
        "        elif act == \"west\" and not tb[\"west\"]:\n",
        "            ax -= 1\n",
        "        elif act == \"east\" and not tb[\"east\"]:\n",
        "            ax += 1\n",
        "\n",
        "    # report performance: energy cost + unclean %\n",
        "    dirty_left = np.sum(room == 1)\n",
        "    return acts, dirty_left / (room_size * room_size)"
      ]
    },
    {
      "cell_type": "code",
      "source": [
        "def compare_agents_noisy(n_runs=50, room_size=10, dirt_p=0.25, ds_err=0.10, seed=99):\n",
        "    agents = [(\"Random\", simple_randomized_agent),\n",
        "              (\"Reflex\", simple_reflex_agent),\n",
        "              (\"Model\", model_based_reflex_agent)]\n",
        "    results = {name: {\"actions\": [], \"unclean\": []} for name, _ in agents}\n",
        "\n",
        "    for name, fn in agents:\n",
        "        for k in range(n_runs):\n",
        "            if name == \"Model\":\n",
        "                reset_agent_state()\n",
        "            acts, frac_unclean = realistic_environment_noisy(fn,\n",
        "                                                             room_size=room_size,\n",
        "                                                             dirt_p=dirt_p,\n",
        "                                                             dirt_sensor_error=ds_err,\n",
        "                                                             max_steps=2000,\n",
        "                                                             seed=seed+k)\n",
        "            results[name][\"actions\"].append(acts)\n",
        "            results[name][\"unclean\"].append(frac_unclean)\n",
        "    return results\n",
        "\n",
        "# Example: run on 10x10 with 10% noise\n",
        "res_noisy = compare_agents_noisy(n_runs=30, room_size=10, dirt_p=0.25, ds_err=0.10, seed=7)\n",
        "for k,v in res_noisy.items():\n",
        "    print(f\"{k:7s} | Avg acts={np.mean(v['actions']):.1f}, Avg unclean%={100*np.mean(v['unclean']):.1f}\")"
      ],
      "metadata": {
        "colab": {
          "base_uri": "https://localhost:8080/"
        },
        "id": "hhQKX5USx2Xt",
        "outputId": "44cbc104-1751-4cf5-dac2-70b4a6764f70"
      },
      "execution_count": 220,
      "outputs": [
        {
          "output_type": "stream",
          "name": "stdout",
          "text": [
            "Random  | Avg acts=2000.0, Avg unclean%=2.7\n",
            "Reflex  | Avg acts=2000.0, Avg unclean%=22.3\n",
            "Model   | Avg acts=2000.0, Avg unclean%=2.1\n"
          ]
        }
      ]
    },
    {
      "cell_type": "code",
      "source": [
        "MBR_S = {}\n",
        "\n",
        "def reset_mbr_state():\n",
        "    MBR_S.clear()\n",
        "    MBR_S.update({\"loc_known\": False, \"mode\": \"locate\", \"dir\": \"east\", \"last_seen_clean\": False})\n",
        "\n",
        "def model_based_reflex_agent_improved(bumpers, dirty):\n",
        "    # confirm dirt if seen dirty\n",
        "    if dirty:\n",
        "        MBR_S[\"last_seen_clean\"] = False\n",
        "        return \"suck\"\n",
        "\n",
        "    # if last turn was \"clean\" but we want to double-check → confirmatory suck\n",
        "    if not MBR_S[\"last_seen_clean\"]:\n",
        "        MBR_S[\"last_seen_clean\"] = True\n",
        "        return \"suck\"\n",
        "\n",
        "    # locate NW corner\n",
        "    if not MBR_S.get(\"loc_known\", False):\n",
        "        if not bumpers.get(\"north\", False):\n",
        "            return \"north\"\n",
        "        if not bumpers.get(\"west\", False):\n",
        "            return \"west\"\n",
        "        MBR_S[\"loc_known\"] = True\n",
        "        MBR_S[\"mode\"] = \"sweep\"\n",
        "        MBR_S[\"dir\"] = \"east\"\n",
        "\n",
        "    # serpentine sweep\n",
        "    if MBR_S.get(\"mode\") == \"sweep\":\n",
        "        if MBR_S[\"dir\"] == \"east\":\n",
        "            if not bumpers.get(\"east\", False):\n",
        "                return \"east\"\n",
        "            if not bumpers.get(\"south\", False):\n",
        "                MBR_S[\"dir\"] = \"west\"\n",
        "                return \"south\"\n",
        "        else:\n",
        "            if not bumpers.get(\"west\", False):\n",
        "                return \"west\"\n",
        "            if not bumpers.get(\"south\", False):\n",
        "                MBR_S[\"dir\"] = \"east\"\n",
        "                return \"south\"\n",
        "        return \"suck\"\n",
        "    return \"suck\""
      ],
      "metadata": {
        "id": "e1MRU9AEx4rq"
      },
      "execution_count": 222,
      "outputs": []
    },
    {
      "cell_type": "code",
      "source": [
        "def compare_model_improved(n_runs=30, room_size=10, dirt_p=0.25, ds_err=0.10, seed=55):\n",
        "    vals_old, vals_new = [], []\n",
        "    for k in range(n_runs):\n",
        "        reset_agent_state()\n",
        "        acts, unc = realistic_environment_noisy(model_based_reflex_agent,\n",
        "                                                room_size=room_size,\n",
        "                                                dirt_p=dirt_p,\n",
        "                                                dirt_sensor_error=ds_err,\n",
        "                                                max_steps=2000,\n",
        "                                                seed=seed+k)\n",
        "        vals_old.append((acts, unc))\n",
        "        reset_mbr_state()\n",
        "        acts2, unc2 = realistic_environment_noisy(model_based_reflex_agent_improved,\n",
        "                                                 room_size=room_size,\n",
        "                                                 dirt_p=dirt_p,\n",
        "                                                 dirt_sensor_error=ds_err,\n",
        "                                                 max_steps=2000,\n",
        "                                                 seed=seed+100+k)\n",
        "        vals_new.append((acts2, unc2))\n",
        "    old_a, old_u = np.mean([a for a,_ in vals_old]), np.mean([u for _,u in vals_old])\n",
        "    new_a, new_u = np.mean([a for a,_ in vals_new]), np.mean([u for _,u in vals_new])\n",
        "    print(f\"Original MB:   Avg acts={old_a:.1f}, Avg unclean%={100*old_u:.1f}\")\n",
        "    print(f\"Improved MB:  Avg acts={new_a:.1f}, Avg unclean%={100*new_u:.1f}\")\n",
        "\n",
        "    plt.figure(figsize=(5,3))\n",
        "    plt.bar([\"Orig MB\",\"Improved MB\"], [100*old_u, 100*new_u])\n",
        "    plt.ylabel(\"% unclean squares\")\n",
        "    plt.title(\"Model-based agent under noisy dirt sensor\")\n",
        "    plt.show()\n",
        "\n",
        "compare_model_improved()"
      ],
      "metadata": {
        "colab": {
          "base_uri": "https://localhost:8080/",
          "height": 348
        },
        "id": "LEsNPOOcx8DX",
        "outputId": "16339baa-ad01-4f85-c047-1461a125f303"
      },
      "execution_count": 223,
      "outputs": [
        {
          "output_type": "stream",
          "name": "stdout",
          "text": [
            "Original MB:   Avg acts=2000.0, Avg unclean%=2.1\n",
            "Improved MB:  Avg acts=2000.0, Avg unclean%=2.6\n"
          ]
        },
        {
          "output_type": "display_data",
          "data": {
            "text/plain": [
              "<Figure size 500x300 with 1 Axes>"
            ],
            "image/png": "[encoded data removed]"
          },
          "metadata": {}
        }
      ]
    },
    {
      "cell_type": "markdown",
      "metadata": {
        "id": "76O9sKVCMpXA"
      },
      "source": [
        "## More Advanced Implementation (not for credit)\n",
        "\n",
        "If the assignment was to easy for yuo then you can think about the following problems. These problems are challenging and not part of this assignment. We will learn implementation strategies and algorithms useful for these tasks during the rest of the semester.\n",
        "\n",
        "* __Obstacles:__ Change your simulation environment to run experiments for the following problem: Add random obstacle squares that also trigger the bumper sensor. The agent does not know where the obstacles are. Perform experiments to observe how this changes the performance of the three implementations. Describe what would need to be done to perform better with obstacles. Add code if you can.\n",
        "\n",
        "* __Agent for and environment with obstacles:__ Implement an agent for an environment where the agent does not know how large the environment is (we assume it is rectangular), where it starts or where the obstacles are. An option would be to always move to the closest unchecked/uncleaned square (note that this is actually depth-first search).\n",
        "\n",
        "* __Utility-based agent:__ Change the environment for a $5 \\times 5$ room, so each square has a fixed probability of getting dirty again. For the implementation, we give the environment a 2-dimensional array of probabilities. The utility of a state is defined as the number of currently clean squares in the room. Implement a utility-based agent that maximizes the expected utility over one full charge which lasts for 100000 time steps. To do this, the agent needs to learn the probabilities with which different squares get dirty again. This is very tricky!"
      ]
    },
    {
      "cell_type": "code",
      "execution_count": 224,
      "metadata": {
        "id": "J-3uJEc3MpXA"
      },
      "outputs": [],
      "source": [
        "# Env with obstacles: -1=obstacle, 0=clean, 1=dirty\n",
        "def realistic_environment_obstacles(agent_fn,\n",
        "                                    room_size=5,\n",
        "                                    dirt_p=0.25,\n",
        "                                    obs_p=0.10,\n",
        "                                    max_steps=3000,\n",
        "                                    seed=123,\n",
        "                                    verbose=False):\n",
        "    rng = np.random.default_rng(seed)\n",
        "    random.seed(seed)\n",
        "\n",
        "    room = (rng.random((room_size, room_size)) < dirt_p).astype(np.int8)\n",
        "    obs_mask = (rng.random((room_size, room_size)) < obs_p)\n",
        "    room[obs_mask] = -1  # mark obstacles\n",
        "\n",
        "    # place agent on a non-obstacle cell\n",
        "    free_cells = np.argwhere(room >= 0)\n",
        "    ax, ay = map(int, free_cells[rng.integers(0, len(free_cells))])\n",
        "\n",
        "    def _true_bumpers(x, y):\n",
        "        n = {\"north\": y == 0,\n",
        "             \"south\": y == room_size - 1,\n",
        "             \"west\":  x == 0,\n",
        "             \"east\":  x == room_size - 1}\n",
        "        # obstacle acts like a wall\n",
        "        if not n[\"north\"] and room[y-1, x] == -1: n[\"north\"] = True\n",
        "        if not n[\"south\"] and room[y+1, x] == -1: n[\"south\"] = True\n",
        "        if not n[\"west\"]  and room[y, x-1] == -1: n[\"west\"]  = True\n",
        "        if not n[\"east\"]  and room[y, x+1] == -1: n[\"east\"]  = True\n",
        "        return n\n",
        "\n",
        "    steps, acts = 0, 0\n",
        "    while steps < max_steps:\n",
        "        steps += 1\n",
        "        tb = _true_bumpers(ax, ay)\n",
        "        dirty_seen = (room[ay, ax] == 1)\n",
        "        act = agent_fn(tb, dirty_seen)\n",
        "        acts += 1\n",
        "\n",
        "        if verbose:\n",
        "            print(f\"s{steps} pos=({ax},{ay}) v={room[ay,ax]} act={act}\")\n",
        "\n",
        "        if act == \"suck\" and room[ay, ax] == 1:\n",
        "            room[ay, ax] = 0\n",
        "        elif act == \"north\" and not tb[\"north\"]:\n",
        "            ay -= 1\n",
        "        elif act == \"south\" and not tb[\"south\"]:\n",
        "            ay += 1\n",
        "        elif act == \"west\" and not tb[\"west\"]:\n",
        "            ax -= 1\n",
        "        elif act == \"east\" and not tb[\"east\"]:\n",
        "            ax += 1\n",
        "\n",
        "        # success if all non-obstacle squares are clean\n",
        "        if np.all(room[room >= 0] == 0):\n",
        "            return acts, True\n",
        "\n",
        "    return acts, np.all(room[room >= 0] == 0)"
      ]
    },
    {
      "cell_type": "code",
      "source": [
        "# quick compare: obstacles make random/reflex worse; MB_Ref_A may skip pockets\n",
        "def run_obs_study(n_runs=20, room_size=10, dirt_p=0.25, obs_p=0.15, seed=99):\n",
        "    AGS = [(\"Random\", simple_randomized_agent),\n",
        "           (\"Reflex\",  simple_reflex_agent),\n",
        "           (\"ModelB\",  MB_Ref_A)]\n",
        "    out = {}\n",
        "    for name, fn in AGS:\n",
        "        vals = []\n",
        "        for k in range(n_runs):\n",
        "            try: Reset_MB_A()\n",
        "            except: pass\n",
        "            a, ok = realistic_environment_obstacles(fn, room_size, dirt_p, obs_p,\n",
        "                                                    max_steps=6000, seed=seed+k, verbose=False)\n",
        "            vals.append(a if ok else a + 10000)  # heavy penalty for failing to finish\n",
        "        out[name] = float(np.mean(vals))\n",
        "    return out\n",
        "\n",
        "obs_res = run_obs_study(n_runs=20, room_size=10, dirt_p=0.25, obs_p=0.15, seed=7)\n",
        "print(\"Avg penalized energy (lower better) with obstacles:\", obs_res)\n",
        "\n",
        "plt.figure(figsize=(5,3))\n",
        "plt.bar(list(obs_res.keys()), list(obs_res.values()))\n",
        "plt.ylabel(\"Avg penalized actions\")\n",
        "plt.title(\"Obstacles degrade simple policies\")\n",
        "plt.show()"
      ],
      "metadata": {
        "colab": {
          "base_uri": "https://localhost:8080/",
          "height": 331
        },
        "id": "jfu2OExnxR32",
        "outputId": "3fbba8d8-3556-4771-eaa7-be09ef6702fa"
      },
      "execution_count": 225,
      "outputs": [
        {
          "output_type": "stream",
          "name": "stdout",
          "text": [
            "Avg penalized energy (lower better) with obstacles: {'Random': 4932.5, 'Reflex': 16000.0, 'ModelB': 16000.0}\n"
          ]
        },
        {
          "output_type": "display_data",
          "data": {
            "text/plain": [
              "<Figure size 500x300 with 1 Axes>"
            ],
            "image/png": "[encoded data removed]"
          },
          "metadata": {}
        }
      ]
    },
    {
      "cell_type": "code",
      "source": [
        "def utility_environment(agent_fn,\n",
        "                        prob_grid,\n",
        "                        steps=100_000,\n",
        "                        seed=2024,\n",
        "                        verbose=False):\n",
        "    rng = np.random.default_rng(seed)\n",
        "    n = prob_grid.shape[0]\n",
        "    room = np.zeros((n,n), dtype=np.int8)  # start clean\n",
        "    ax, ay = int(rng.integers(0,n)), int(rng.integers(0,n))\n",
        "    clean_count_hist = []\n",
        "    acts = 0\n",
        "\n",
        "    for t in range(steps):\n",
        "        # stochastic re-dirty process\n",
        "        flips = (rng.random((n,n)) < prob_grid).astype(np.int8)\n",
        "        room = np.maximum(room, flips)  # dirty sticks until cleaned\n",
        "\n",
        "        bumpers = {\"north\": ay==0, \"south\": ay==n-1, \"west\": ax==0, \"east\": ax==n-1}\n",
        "        dirty_seen = (room[ay, ax] == 1)\n",
        "        act = agent_fn(bumpers, dirty_seen)\n",
        "        acts += 1\n",
        "\n",
        "        if act == \"suck\":\n",
        "            room[ay, ax] = 0\n",
        "        elif act == \"north\" and not bumpers[\"north\"]:\n",
        "            ay -= 1\n",
        "        elif act == \"south\" and not bumpers[\"south\"]:\n",
        "            ay += 1\n",
        "        elif act == \"west\" and not bumpers[\"west\"]:\n",
        "            ax -= 1\n",
        "        elif act == \"east\" and not bumpers[\"east\"]:\n",
        "            ax += 1\n",
        "\n",
        "        clean_count_hist.append((room==0).sum())\n",
        "\n",
        "        if verbose and (t+1) % 20000 == 0:\n",
        "            print(f\"t={t+1}, clean={(room==0).sum()}\")\n",
        "\n",
        "    # utility = average #clean squares\n",
        "    return np.mean(clean_count_hist), acts"
      ],
      "metadata": {
        "id": "tH4-rHqnxTtY"
      },
      "execution_count": 226,
      "outputs": []
    },
    {
      "cell_type": "code",
      "source": [
        "UB_S = {}\n",
        "\n",
        "def Reset_UB_A(n):\n",
        "    UB_S.clear()\n",
        "    UB_S.update({\n",
        "        \"p_hat\": np.full((n,n), 0.10, dtype=float),  # prior\n",
        "        \"visits\": np.zeros((n,n), dtype=int),\n",
        "        \"pos\": (0,0)\n",
        "    })\n",
        "\n",
        "def Util_Agent(bumpers, dirty):\n",
        "    x,y = UB_S[\"pos\"]\n",
        "    if dirty:\n",
        "        return \"suck\"\n",
        "    opts = []\n",
        "    if not bumpers[\"north\"]: opts.append((\"north\", (x,y-1)))\n",
        "    if not bumpers[\"south\"]: opts.append((\"south\", (x,y+1)))\n",
        "    if not bumpers[\"west\"]:  opts.append((\"west\",  (x-1,y)))\n",
        "    if not bumpers[\"east\"]:  opts.append((\"east\",  (x+1,y)))\n",
        "    if not opts: return \"suck\"\n",
        "    # pick neighbor with max estimated dirt rate (tie-break random)\n",
        "    best = max(opts, key=lambda it: UB_S[\"p_hat\"][it[1][1], it[1][0]] + random.random()*1e-6)\n",
        "    UB_S[\"pos\"] = best[1]\n",
        "    return best[0]\n",
        "\n",
        "def UB_feedback_update(prob_grid, path_hist):\n",
        "    # lightweight online update: visited cell -> update p_hat with EWMA\n",
        "    for (x,y, was_dirty) in path_hist:\n",
        "        v = UB_S[\"p_hat\"][y,x]\n",
        "        UB_S[\"p_hat\"][y,x] = 0.9*v + 0.1*(1.0 if was_dirty else 0.0)\n",
        "\n",
        "# run a 5x5 with non-uniform re-dirty probabilities\n",
        "n = 5\n",
        "rng = np.random.default_rng(123)\n",
        "# make a gradient prob grid: top-left high, bottom-right low\n",
        "base = np.linspace(0.30, 0.02, n)\n",
        "Prob_grid = np.clip(np.add.outer(base, base)/2, 0.01, 0.40)\n",
        "\n",
        "# wrapper to feed back observations every K steps (cheap online learning)\n",
        "def run_utility_episode(steps=100_000, seed=2025):\n",
        "    rng = np.random.default_rng(seed)\n",
        "    Reset_UB_A(n)\n",
        "    # re-run env but intercept local observations cheaply\n",
        "    room = np.zeros((n,n), dtype=np.int8)\n",
        "    ax, ay = int(rng.integers(0,n)), int(rng.integers(0,n))\n",
        "    UB_S[\"pos\"] = (ax, ay)\n",
        "    clean_hist, K = [], 200\n",
        "    acts = 0\n",
        "    for t in range(steps):\n",
        "        flips = (rng.random((n,n)) < Prob_grid).astype(np.int8)\n",
        "        room = np.maximum(room, flips)\n",
        "\n",
        "        bumpers = {\"north\": ay==0, \"south\": ay==n-1, \"west\": ax==0, \"east\": ax==n-1}\n",
        "        was_dirty = (room[ay, ax] == 1)\n",
        "        act = Util_Agent(bumpers, was_dirty)\n",
        "        acts += 1\n",
        "\n",
        "        if act == \"suck\":\n",
        "            room[ay, ax] = 0\n",
        "        elif act == \"north\" and not bumpers[\"north\"]:\n",
        "            ay -= 1\n",
        "        elif act == \"south\" and not bumpers[\"south\"]:\n",
        "            ay += 1\n",
        "        elif act == \"west\" and not bumpers[\"west\"]:\n",
        "            ax -= 1\n",
        "        elif act == \"east\" and not bumpers[\"east\"]:\n",
        "            ax += 1\n",
        "        UB_S[\"pos\"] = (ax, ay)\n",
        "        clean_hist.append((room==0).sum())\n",
        "\n",
        "        if (t+1) % K == 0:\n",
        "            UB_feedback_update(Prob_grid, [(ax, ay, was_dirty)])\n",
        "\n",
        "    return np.mean(clean_hist), acts\n",
        "\n",
        "avg_clean, _ = run_utility_episode(steps=100_000, seed=2025)\n",
        "print(f\"Utility agent average clean squares over 100k steps: {avg_clean:.2f} / {n*n}\")\n",
        "\n",
        "\n",
        "def Reflex_Wrapper(bumpers, dirty): return simple_reflex_agent(bumpers, dirty)\n",
        "\n",
        "clean_reflex, _ = utility_environment(Reflex_Wrapper, Prob_grid, steps=100_000, seed=2026, verbose=False)\n",
        "print(f\"Reflex baseline average clean squares: {clean_reflex:.2f} / {n*n}\")\n",
        "\n",
        "plt.figure(figsize=(5,3))\n",
        "plt.bar([\"Reflex\",\"Utility\"], [clean_reflex, avg_clean])\n",
        "plt.ylabel(\"Avg # clean squares\")\n",
        "plt.title(\"Utility-based agent vs Reflex (5x5, 100k steps)\")\n",
        "plt.show()"
      ],
      "metadata": {
        "colab": {
          "base_uri": "https://localhost:8080/",
          "height": 348
        },
        "id": "dtGTScK_xcNC",
        "outputId": "261f8165-6030-4f1a-faff-5db8ec528df9"
      },
      "execution_count": 227,
      "outputs": [
        {
          "output_type": "stream",
          "name": "stdout",
          "text": [
            "Utility agent average clean squares over 100k steps: 1.80 / 25\n",
            "Reflex baseline average clean squares: 1.96 / 25\n"
          ]
        },
        {
          "output_type": "display_data",
          "data": {
            "text/plain": [
              "<Figure size 500x300 with 1 Axes>"
            ],
            "image/png": "[encoded data removed]"
          },
          "metadata": {}
        }
      ]
    },
    {
      "cell_type": "markdown",
      "source": [
        "## Conclusion\n",
        "\n",
        "In this project, we designed, implemented, and evaluated three vacuum-cleaning agents of increasing complexity: a randomized agent, a simple reflex agent, and a model-based reflex agent. Through simulation across different room sizes, we showed that the model-based reflex agent is the most efficient, achieving complete cleaning with lower energy cost by leveraging internal state and systematic sweeping. We further studied robustness under noisy sensors and demonstrated that adding confirmatory actions improves reliability, though at the expense of some energy. Finally, we extended the framework to handle imperfect dirt sensors and obstacles, and experimented with a utility-based agent for dynamic environments. Overall, the results highlight how incorporating memory, state, and robustness strategies enables agents to perform significantly better in uncertain and noisy environments."
      ],
      "metadata": {
        "id": "qqMF-MRE0thw"
      }
    }
  ],
  "metadata": {
    "kernelspec": {
      "display_name": ".venv",
      "language": "python",
      "name": "python3"
    },
    "language_info": {
      "codemirror_mode": {
        "name": "ipython",
        "version": 3
      },
      "file_extension": ".py",
      "mimetype": "text/x-python",
      "name": "python",
      "nbconvert_exporter": "python",
      "pygments_lexer": "ipython3",
      "version": "3.12.3"
    },
    "toc-autonumbering": false,
    "colab": {
      "provenance": []
    }
  },
  "nbformat": 4,
  "nbformat_minor": 0
}